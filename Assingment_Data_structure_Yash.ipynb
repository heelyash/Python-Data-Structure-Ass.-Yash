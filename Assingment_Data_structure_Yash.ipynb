{
  "nbformat": 4,
  "nbformat_minor": 0,
  "metadata": {
    "colab": {
      "provenance": []
    },
    "kernelspec": {
      "name": "python3",
      "display_name": "Python 3"
    },
    "language_info": {
      "name": "python"
    }
  },
  "cells": [
    {
      "cell_type": "code",
      "source": [
        " # Que.1  Discuss string slicing and provide examples.\n",
        "\n",
        "# Ans.  Python slicing is about obtaining a sub-string from the given string by slicing it respectively from start to end.\n",
        "# It follows the format string[start:end], where start is the index where slicing begins (inclusive) and end is the index where it ends (exclusive).\n",
        "# Slicing means extracting a part from something, and slicing a string means extracting some part from a string. This extracted part is also referred to as a sub-string.\n",
        "#In short, string slicing in Python is obtaining a #substring from a larger string by slicing it based on specific criteria. String slicing allows us to obtain a specific\n",
        "#range of characters from a string based on their respective indices.\n",
        "\n",
        "school = \"Roman reings is back at summerslam and shock the world\"\n",
        "\n",
        "type(school)\n",
        "\n"
      ],
      "metadata": {
        "colab": {
          "base_uri": "https://localhost:8080/"
        },
        "id": "XsFk0GCdsPLi",
        "outputId": "f8de5541-9bc5-4996-9fff-8d4a72e3d2f6"
      },
      "execution_count": 11,
      "outputs": [
        {
          "output_type": "execute_result",
          "data": {
            "text/plain": [
              "str"
            ]
          },
          "metadata": {},
          "execution_count": 11
        }
      ]
    },
    {
      "cell_type": "code",
      "source": [
        "len(school)"
      ],
      "metadata": {
        "colab": {
          "base_uri": "https://localhost:8080/"
        },
        "id": "TraN9IQVsu0X",
        "outputId": "60f8344c-7209-49b8-85e5-6f814c736412"
      },
      "execution_count": 12,
      "outputs": [
        {
          "output_type": "execute_result",
          "data": {
            "text/plain": [
              "54"
            ]
          },
          "metadata": {},
          "execution_count": 12
        }
      ]
    },
    {
      "cell_type": "code",
      "source": [
        "school[0:10]                 # 0 index is included and the 10 is excluded"
      ],
      "metadata": {
        "colab": {
          "base_uri": "https://localhost:8080/",
          "height": 36
        },
        "id": "LETUClHSs6kf",
        "outputId": "cbd84353-f54e-4289-a347-a4ef4419cba6"
      },
      "execution_count": 4,
      "outputs": [
        {
          "output_type": "execute_result",
          "data": {
            "text/plain": [
              "'Roman rein'"
            ],
            "application/vnd.google.colaboratory.intrinsic+json": {
              "type": "string"
            }
          },
          "metadata": {},
          "execution_count": 4
        }
      ]
    },
    {
      "cell_type": "code",
      "source": [
        "school[5:]"
      ],
      "metadata": {
        "colab": {
          "base_uri": "https://localhost:8080/",
          "height": 36
        },
        "id": "Ie56cs4ds9x3",
        "outputId": "4307eee3-7324-45dd-97ab-78fcb3257d38"
      },
      "execution_count": 6,
      "outputs": [
        {
          "output_type": "execute_result",
          "data": {
            "text/plain": [
              "' reings is back at summerslam and shock the wrold'"
            ],
            "application/vnd.google.colaboratory.intrinsic+json": {
              "type": "string"
            }
          },
          "metadata": {},
          "execution_count": 6
        }
      ]
    },
    {
      "cell_type": "code",
      "source": [
        "school[:-6]"
      ],
      "metadata": {
        "colab": {
          "base_uri": "https://localhost:8080/",
          "height": 36
        },
        "id": "rml1BAy5tCRI",
        "outputId": "a94c1a53-0493-4fea-9637-e70f617d3dbc"
      },
      "execution_count": 8,
      "outputs": [
        {
          "output_type": "execute_result",
          "data": {
            "text/plain": [
              "'Roman reings is back at summerslam and shock the'"
            ],
            "application/vnd.google.colaboratory.intrinsic+json": {
              "type": "string"
            }
          },
          "metadata": {},
          "execution_count": 8
        }
      ]
    },
    {
      "cell_type": "code",
      "source": [
        "school[::1]   #by this we get whole string"
      ],
      "metadata": {
        "colab": {
          "base_uri": "https://localhost:8080/",
          "height": 36
        },
        "id": "MMqUh8IZtRdO",
        "outputId": "8f41c3c0-b1bb-4ac9-8f53-3ecceb378f23"
      },
      "execution_count": 13,
      "outputs": [
        {
          "output_type": "execute_result",
          "data": {
            "text/plain": [
              "'Roman reings is back at summerslam and shock the world'"
            ],
            "application/vnd.google.colaboratory.intrinsic+json": {
              "type": "string"
            }
          },
          "metadata": {},
          "execution_count": 13
        }
      ]
    },
    {
      "cell_type": "code",
      "source": [
        "school[::-1] #we can revrse the strings"
      ],
      "metadata": {
        "colab": {
          "base_uri": "https://localhost:8080/",
          "height": 36
        },
        "id": "UncM_mPIt8g7",
        "outputId": "d22ca24e-3ccc-46a0-e34e-824fcac3ad15"
      },
      "execution_count": 14,
      "outputs": [
        {
          "output_type": "execute_result",
          "data": {
            "text/plain": [
              "'dlrow eht kcohs dna malsremmus ta kcab si sgnier namoR'"
            ],
            "application/vnd.google.colaboratory.intrinsic+json": {
              "type": "string"
            }
          },
          "metadata": {},
          "execution_count": 14
        }
      ]
    },
    {
      "cell_type": "code",
      "source": [
        "school[::2]   #we can say tha jump string over and over as per need of the interval"
      ],
      "metadata": {
        "colab": {
          "base_uri": "https://localhost:8080/",
          "height": 36
        },
        "id": "ui8ykmL1uFVE",
        "outputId": "dcd3f4bf-e918-4a04-ed9a-4e440f65e3f2"
      },
      "execution_count": 15,
      "outputs": [
        {
          "output_type": "execute_result",
          "data": {
            "text/plain": [
              "'Rmnrig sbc tsmesa n hc h ol'"
            ],
            "application/vnd.google.colaboratory.intrinsic+json": {
              "type": "string"
            }
          },
          "metadata": {},
          "execution_count": 15
        }
      ]
    },
    {
      "cell_type": "code",
      "source": [
        "# Que.  2 Explain the key features of lists in Python.\n",
        "\n",
        "# Ans. Lists are mutable and dynamic; list items can be added, removed or changed after the list is defined. Lists are ordered; newly added items will be placed at the end of the list. Lists use zero-based indexing; # # # # every list item has an associated index, and the first item's index is 0.\n",
        "\n",
        "# The important characteristics of Python lists are as follows:\n",
        "\n",
        "# Lists are ordered.\n",
        "#Lists can contain any arbitrary objects.\n",
        "#List elements can be accessed by index.\n",
        "#Lists can be nested to arbitrary depth.\n",
        "#Lists are mutable.\n",
        "#Lists are dynamic.\n"
      ],
      "metadata": {
        "id": "J6LfBOwQuNt3"
      },
      "execution_count": null,
      "outputs": []
    },
    {
      "cell_type": "code",
      "source": [
        "# Que. 3 Describe how to access, modify, and delete elements in a list with examples ?\n",
        "\n",
        "# Ans . The syntax for accessing the elements of a list is the same as the syntax for accessing the characters of a string. We use the index operator ( [] – not to be confused with an empty list). The expression inside the #brackets specifies the index.\n",
        "\n",
        "Cars = [\"ferrar\" , \"neon\", \"scorpio\" , \"porch\" , \"fortuner\"]\n",
        "\n",
        "type(Cars)"
      ],
      "metadata": {
        "colab": {
          "base_uri": "https://localhost:8080/"
        },
        "id": "FrNG27gCu26p",
        "outputId": "4e7afac0-588d-44b0-81ca-ddf9536052cb"
      },
      "execution_count": 16,
      "outputs": [
        {
          "output_type": "execute_result",
          "data": {
            "text/plain": [
              "list"
            ]
          },
          "metadata": {},
          "execution_count": 16
        }
      ]
    },
    {
      "cell_type": "code",
      "source": [
        "len(Cars)"
      ],
      "metadata": {
        "colab": {
          "base_uri": "https://localhost:8080/"
        },
        "id": "lgU1SvULvxN1",
        "outputId": "199cd30b-9c8f-4ce0-f980-e01dfbfe03e8"
      },
      "execution_count": 17,
      "outputs": [
        {
          "output_type": "execute_result",
          "data": {
            "text/plain": [
              "5"
            ]
          },
          "metadata": {},
          "execution_count": 17
        }
      ]
    },
    {
      "cell_type": "code",
      "source": [
        "Cars[0]"
      ],
      "metadata": {
        "colab": {
          "base_uri": "https://localhost:8080/",
          "height": 36
        },
        "id": "ZFykEUjQvzoM",
        "outputId": "4fb2fdd8-679f-4c14-a519-224305e1b6cd"
      },
      "execution_count": 19,
      "outputs": [
        {
          "output_type": "execute_result",
          "data": {
            "text/plain": [
              "'ferrar'"
            ],
            "application/vnd.google.colaboratory.intrinsic+json": {
              "type": "string"
            }
          },
          "metadata": {},
          "execution_count": 19
        }
      ]
    },
    {
      "cell_type": "code",
      "source": [
        "Cars[2]"
      ],
      "metadata": {
        "colab": {
          "base_uri": "https://localhost:8080/",
          "height": 36
        },
        "id": "cUbqljwfv2GP",
        "outputId": "721ea84c-874f-49c0-8f7e-836c8dc8ac30"
      },
      "execution_count": 20,
      "outputs": [
        {
          "output_type": "execute_result",
          "data": {
            "text/plain": [
              "'scorpio'"
            ],
            "application/vnd.google.colaboratory.intrinsic+json": {
              "type": "string"
            }
          },
          "metadata": {},
          "execution_count": 20
        }
      ]
    },
    {
      "cell_type": "code",
      "source": [
        "Cars[3]"
      ],
      "metadata": {
        "colab": {
          "base_uri": "https://localhost:8080/",
          "height": 36
        },
        "id": "YeD4ot4Nv5iB",
        "outputId": "ecdb83af-34b3-40f8-d910-eb954711b91f"
      },
      "execution_count": 21,
      "outputs": [
        {
          "output_type": "execute_result",
          "data": {
            "text/plain": [
              "'porch'"
            ],
            "application/vnd.google.colaboratory.intrinsic+json": {
              "type": "string"
            }
          },
          "metadata": {},
          "execution_count": 21
        }
      ]
    },
    {
      "cell_type": "code",
      "source": [
        "print(Cars[0])"
      ],
      "metadata": {
        "colab": {
          "base_uri": "https://localhost:8080/"
        },
        "id": "esqhjOnMv77R",
        "outputId": "08bc519f-3312-4321-c7da-18706afe2f8f"
      },
      "execution_count": 22,
      "outputs": [
        {
          "output_type": "stream",
          "name": "stdout",
          "text": [
            "ferrar\n"
          ]
        }
      ]
    },
    {
      "cell_type": "code",
      "source": [
        "print(Cars[0:4])"
      ],
      "metadata": {
        "colab": {
          "base_uri": "https://localhost:8080/"
        },
        "id": "C4UFYqy7wPFh",
        "outputId": "4545582e-212a-448f-a417-9f9c593d72f0"
      },
      "execution_count": 24,
      "outputs": [
        {
          "output_type": "stream",
          "name": "stdout",
          "text": [
            "['ferrar', 'neon', 'scorpio', 'porch']\n"
          ]
        }
      ]
    },
    {
      "cell_type": "code",
      "source": [
        "Cars"
      ],
      "metadata": {
        "colab": {
          "base_uri": "https://localhost:8080/"
        },
        "id": "XwG23x21wUwV",
        "outputId": "966da1a6-ab8b-4652-f05a-cc7c0bf56390"
      },
      "execution_count": 25,
      "outputs": [
        {
          "output_type": "execute_result",
          "data": {
            "text/plain": [
              "['ferrar', 'neon', 'scorpio', 'porch', 'fortuner']"
            ]
          },
          "metadata": {},
          "execution_count": 25
        }
      ]
    },
    {
      "cell_type": "code",
      "source": [
        "#Python lists can store an ordered collection of items, or elements, of varying types. They are often used to compile multiple items into a single, mutable variable,\n",
        "#which is helpful for retrieving items, specifying #outputs or performing calculations quickly.\n",
        "#Lists are also a type of built-in data structure in Python (along with tuples, sets and dictionaries), which is a specified way of storing and formatting data.\n",
        "\n",
        "#8 Ways to Modify a Python List\n",
        "#Index method.\n",
        "#Count method.\n",
        "#Sort method.\n",
        "#Append method.\n",
        "#Remove method.\n",
        "#Pop method.\n",
        "#Extend method.\n",
        "#Insert method.\n",
        "\n",
        "Cars\n"
      ],
      "metadata": {
        "colab": {
          "base_uri": "https://localhost:8080/"
        },
        "id": "Z7rFAVGgwkJd",
        "outputId": "6ce8f6da-3244-4594-ffab-bc2eb3e186a8"
      },
      "execution_count": 27,
      "outputs": [
        {
          "output_type": "execute_result",
          "data": {
            "text/plain": [
              "['ferrar', 'neon', 'scorpio', 'porch', 'fortuner']"
            ]
          },
          "metadata": {},
          "execution_count": 27
        }
      ]
    },
    {
      "cell_type": "code",
      "source": [
        "Cars.count(\"porch\")    #it show the freqauncy of an element"
      ],
      "metadata": {
        "colab": {
          "base_uri": "https://localhost:8080/"
        },
        "id": "Oda6_sxBxTln",
        "outputId": "f4b10788-d250-4206-d2c8-b38e4be528f7"
      },
      "execution_count": 29,
      "outputs": [
        {
          "output_type": "execute_result",
          "data": {
            "text/plain": [
              "1"
            ]
          },
          "metadata": {},
          "execution_count": 29
        }
      ]
    },
    {
      "cell_type": "code",
      "source": [
        "sorted(Cars)  #arrange the list in alphbatically order"
      ],
      "metadata": {
        "colab": {
          "base_uri": "https://localhost:8080/"
        },
        "id": "2SXwvEexx6b9",
        "outputId": "53799000-643f-4fc9-ac6a-b30e93d43848"
      },
      "execution_count": 36,
      "outputs": [
        {
          "output_type": "execute_result",
          "data": {
            "text/plain": [
              "['ferrar', 'fortuner', 'neon', 'porch', 'scorpio']"
            ]
          },
          "metadata": {},
          "execution_count": 36
        }
      ]
    },
    {
      "cell_type": "code",
      "source": [
        "Cars.append(\"maruti\")  #add the item at last of the list"
      ],
      "metadata": {
        "id": "vJFtOghtyqXC"
      },
      "execution_count": 37,
      "outputs": []
    },
    {
      "cell_type": "code",
      "source": [
        "Cars"
      ],
      "metadata": {
        "colab": {
          "base_uri": "https://localhost:8080/"
        },
        "id": "U3icUoiNyvAE",
        "outputId": "5f3080c9-8ed9-4859-c64c-b40e7485211d"
      },
      "execution_count": 38,
      "outputs": [
        {
          "output_type": "execute_result",
          "data": {
            "text/plain": [
              "['ferrar', 'neon', 'scorpio', 'porch', 'fortuner', 'maruti']"
            ]
          },
          "metadata": {},
          "execution_count": 38
        }
      ]
    },
    {
      "cell_type": "code",
      "source": [
        "Cars.remove(\"porch\") #remove the item from the list"
      ],
      "metadata": {
        "id": "jSazYPLtyzje"
      },
      "execution_count": 40,
      "outputs": []
    },
    {
      "cell_type": "code",
      "source": [
        "Cars"
      ],
      "metadata": {
        "colab": {
          "base_uri": "https://localhost:8080/"
        },
        "id": "_Ue_la0uzChU",
        "outputId": "05c317ee-35db-4322-a7a9-3878820b566f"
      },
      "execution_count": 41,
      "outputs": [
        {
          "output_type": "execute_result",
          "data": {
            "text/plain": [
              "['ferrar', 'neon', 'scorpio', 'fortuner', 'maruti']"
            ]
          },
          "metadata": {},
          "execution_count": 41
        }
      ]
    },
    {
      "cell_type": "code",
      "source": [
        "Cars.pop()  #by default rremove the last item from data structure"
      ],
      "metadata": {
        "colab": {
          "base_uri": "https://localhost:8080/",
          "height": 36
        },
        "id": "Xr3lUQLAzDZK",
        "outputId": "453d143c-a77d-499e-cca0-ad203c4ee1ea"
      },
      "execution_count": 42,
      "outputs": [
        {
          "output_type": "execute_result",
          "data": {
            "text/plain": [
              "'maruti'"
            ],
            "application/vnd.google.colaboratory.intrinsic+json": {
              "type": "string"
            }
          },
          "metadata": {},
          "execution_count": 42
        }
      ]
    },
    {
      "cell_type": "code",
      "source": [
        "Cars"
      ],
      "metadata": {
        "colab": {
          "base_uri": "https://localhost:8080/"
        },
        "id": "1nTf76GmzHaf",
        "outputId": "52674087-4d7b-49b8-db36-0c15fef40fc9"
      },
      "execution_count": 43,
      "outputs": [
        {
          "output_type": "execute_result",
          "data": {
            "text/plain": [
              "['ferrar', 'neon', 'scorpio', 'fortuner']"
            ]
          },
          "metadata": {},
          "execution_count": 43
        }
      ]
    },
    {
      "cell_type": "code",
      "source": [
        "Cars.insert(2, \"swift\") # add the item befor the desirable item"
      ],
      "metadata": {
        "id": "lMCY8U_jzInz"
      },
      "execution_count": 44,
      "outputs": []
    },
    {
      "cell_type": "code",
      "source": [
        "Cars"
      ],
      "metadata": {
        "colab": {
          "base_uri": "https://localhost:8080/"
        },
        "id": "ueW59MtVzXLC",
        "outputId": "b06a83cb-f2ce-4082-fab1-50ff43e6023e"
      },
      "execution_count": 45,
      "outputs": [
        {
          "output_type": "execute_result",
          "data": {
            "text/plain": [
              "['ferrar', 'neon', 'swift', 'scorpio', 'fortuner']"
            ]
          },
          "metadata": {},
          "execution_count": 45
        }
      ]
    },
    {
      "cell_type": "code",
      "source": [
        "Cars[0:2]  # Index acc. to wish"
      ],
      "metadata": {
        "colab": {
          "base_uri": "https://localhost:8080/"
        },
        "id": "uhgfjGYNzXq2",
        "outputId": "c1e7b9f4-67ec-4f49-b002-e57746433101"
      },
      "execution_count": 47,
      "outputs": [
        {
          "output_type": "execute_result",
          "data": {
            "text/plain": [
              "['ferrar', 'neon']"
            ]
          },
          "metadata": {},
          "execution_count": 47
        }
      ]
    },
    {
      "cell_type": "code",
      "source": [
        "Bikes = [\"Honda\" , \"hero\" , \"Yamaha\" , \"bajaj\"]\n",
        "Bikes"
      ],
      "metadata": {
        "colab": {
          "base_uri": "https://localhost:8080/"
        },
        "id": "wU1wvPDgz7Gz",
        "outputId": "ba67f44a-c604-47dc-e4cc-7ba47f2b2c5d"
      },
      "execution_count": 49,
      "outputs": [
        {
          "output_type": "execute_result",
          "data": {
            "text/plain": [
              "['Honda', 'hero', 'Yamaha', 'bajaj']"
            ]
          },
          "metadata": {},
          "execution_count": 49
        }
      ]
    },
    {
      "cell_type": "code",
      "source": [
        "type(Bikes)"
      ],
      "metadata": {
        "colab": {
          "base_uri": "https://localhost:8080/"
        },
        "id": "-Rf7cGF12Dc2",
        "outputId": "cfa47ef5-427f-4073-b881-6c4f30bd1db3"
      },
      "execution_count": 51,
      "outputs": [
        {
          "output_type": "execute_result",
          "data": {
            "text/plain": [
              "list"
            ]
          },
          "metadata": {},
          "execution_count": 51
        }
      ]
    },
    {
      "cell_type": "code",
      "source": [
        "Cars"
      ],
      "metadata": {
        "colab": {
          "base_uri": "https://localhost:8080/"
        },
        "id": "K1G-hfF-2Ii8",
        "outputId": "8f24054a-5bc7-4704-a1b8-ed800c964e5c"
      },
      "execution_count": 52,
      "outputs": [
        {
          "output_type": "execute_result",
          "data": {
            "text/plain": [
              "['ferrar', 'neon', 'swift', 'scorpio', 'fortuner']"
            ]
          },
          "metadata": {},
          "execution_count": 52
        }
      ]
    },
    {
      "cell_type": "code",
      "source": [
        "Cars.extend(Bikes)      #extend function will effect the lef hand side list but no other list"
      ],
      "metadata": {
        "id": "t97NY3V32GXt"
      },
      "execution_count": 53,
      "outputs": []
    },
    {
      "cell_type": "code",
      "source": [
        "Cars"
      ],
      "metadata": {
        "colab": {
          "base_uri": "https://localhost:8080/"
        },
        "id": "QysucN-y2QWL",
        "outputId": "c346d46a-d4d1-45d1-db71-a9eb545d467e"
      },
      "execution_count": 54,
      "outputs": [
        {
          "output_type": "execute_result",
          "data": {
            "text/plain": [
              "['ferrar',\n",
              " 'neon',\n",
              " 'swift',\n",
              " 'scorpio',\n",
              " 'fortuner',\n",
              " 'Honda',\n",
              " 'hero',\n",
              " 'Yamaha',\n",
              " 'bajaj']"
            ]
          },
          "metadata": {},
          "execution_count": 54
        }
      ]
    },
    {
      "cell_type": "code",
      "source": [
        "Bikes"
      ],
      "metadata": {
        "colab": {
          "base_uri": "https://localhost:8080/"
        },
        "id": "pwCU8ioM2RsT",
        "outputId": "d9515844-34a5-4315-cb6a-5f3314532600"
      },
      "execution_count": 55,
      "outputs": [
        {
          "output_type": "execute_result",
          "data": {
            "text/plain": [
              "['Honda', 'hero', 'Yamaha', 'bajaj']"
            ]
          },
          "metadata": {},
          "execution_count": 55
        }
      ]
    },
    {
      "cell_type": "code",
      "source": [
        "# Que.4  Compare and contrast tuples and lists with examples.\n",
        "\n",
        "#Ans #Diffrence between List and tuple\n",
        "\n",
        "#1\tLists are mutable & Tuples are immutable\n",
        "#2\tThe implication of iterations is Time-consuming & \tThe implication of iterations is comparatively Faster\n",
        "#3\tThe list is better for performing operations, such as insertion and deletion. & \tA Tuple data type is appropriate for accessing the elements\n",
        "#4\tLists consume more memory & \tTuple consumes less memory as compared to the list\n",
        "#5\tLists have several built-in methods & \tTuple does not have many built-in methods.\n",
        "#6\tUnexpected changes and errors are more likely to occur & \tBecause tuples don’t change they are far less error-prone\n",
        "\n",
        "Subjects = [\"hindi\" , \"marathi\" , \"maths\" , \"scinece\" , \"social\"]\n",
        "\n",
        "City = (\"inodre\" , \"pune\" , \"nagpur\" , \"mumbai\" , \"delhi\")\n",
        "\n",
        "type(Subjects)"
      ],
      "metadata": {
        "colab": {
          "base_uri": "https://localhost:8080/"
        },
        "id": "qigU46iN2TEH",
        "outputId": "a9e808fa-47ba-454f-a24d-ae2ae9bbc80d"
      },
      "execution_count": 56,
      "outputs": [
        {
          "output_type": "execute_result",
          "data": {
            "text/plain": [
              "list"
            ]
          },
          "metadata": {},
          "execution_count": 56
        }
      ]
    },
    {
      "cell_type": "code",
      "source": [
        "type(City)"
      ],
      "metadata": {
        "colab": {
          "base_uri": "https://localhost:8080/"
        },
        "id": "4042VE_D4F7q",
        "outputId": "35d002e2-433f-4031-c7a9-b43ac616b619"
      },
      "execution_count": 57,
      "outputs": [
        {
          "output_type": "execute_result",
          "data": {
            "text/plain": [
              "tuple"
            ]
          },
          "metadata": {},
          "execution_count": 57
        }
      ]
    },
    {
      "cell_type": "code",
      "source": [
        "Subjects[0]= \"english\"   #list is mutuable"
      ],
      "metadata": {
        "id": "e5UMTD1T4Hup"
      },
      "execution_count": 59,
      "outputs": []
    },
    {
      "cell_type": "code",
      "source": [
        "Subjects"
      ],
      "metadata": {
        "colab": {
          "base_uri": "https://localhost:8080/"
        },
        "id": "pXs7PD8I4OMZ",
        "outputId": "fc5b4995-3b5d-4305-82a9-c53a0d9c7d68"
      },
      "execution_count": 60,
      "outputs": [
        {
          "output_type": "execute_result",
          "data": {
            "text/plain": [
              "['english', 'marathi', 'maths', 'scinece', 'social']"
            ]
          },
          "metadata": {},
          "execution_count": 60
        }
      ]
    },
    {
      "cell_type": "code",
      "source": [
        "City[0]"
      ],
      "metadata": {
        "colab": {
          "base_uri": "https://localhost:8080/",
          "height": 36
        },
        "id": "yNsSC5mL4QvZ",
        "outputId": "5c610927-43f1-41ad-caa8-373c8dbc42c1"
      },
      "execution_count": 61,
      "outputs": [
        {
          "output_type": "execute_result",
          "data": {
            "text/plain": [
              "'inodre'"
            ],
            "application/vnd.google.colaboratory.intrinsic+json": {
              "type": "string"
            }
          },
          "metadata": {},
          "execution_count": 61
        }
      ]
    },
    {
      "cell_type": "code",
      "source": [
        "City[0]= \"nasik\"  #tupple  is immutuable"
      ],
      "metadata": {
        "colab": {
          "base_uri": "https://localhost:8080/",
          "height": 141
        },
        "id": "g_P_KJ0z4W-w",
        "outputId": "c826df4c-f444-4017-e4f3-cb8c2f2365c9"
      },
      "execution_count": 62,
      "outputs": [
        {
          "output_type": "error",
          "ename": "TypeError",
          "evalue": "'tuple' object does not support item assignment",
          "traceback": [
            "\u001b[0;31m---------------------------------------------------------------------------\u001b[0m",
            "\u001b[0;31mTypeError\u001b[0m                                 Traceback (most recent call last)",
            "\u001b[0;32m<ipython-input-62-de198a9a0647>\u001b[0m in \u001b[0;36m<cell line: 1>\u001b[0;34m()\u001b[0m\n\u001b[0;32m----> 1\u001b[0;31m \u001b[0mCity\u001b[0m\u001b[0;34m[\u001b[0m\u001b[0;36m0\u001b[0m\u001b[0;34m]\u001b[0m\u001b[0;34m=\u001b[0m \u001b[0;34m\"nasik\"\u001b[0m\u001b[0;34m\u001b[0m\u001b[0;34m\u001b[0m\u001b[0m\n\u001b[0m",
            "\u001b[0;31mTypeError\u001b[0m: 'tuple' object does not support item assignment"
          ]
        }
      ]
    },
    {
      "cell_type": "code",
      "source": [
        "# Que 5. Describe the key features of sets and provide examples of their use.\n",
        "\n",
        "#Ans.  Sets are a well-defined collection of objects. Objects that a set contains are called the elements of the set. We can also consider sets as collections of\n",
        "#elements that have a common feature. For example, the #collection of even numbers is called the set of even numbers.\n",
        "#The foremost property of a set is that it can have elements, also called members. Two sets are equal when they have the same elements.\n",
        "##More precisely, sets A and B are equal if every element of A is an element of B, #and every element of B is an element of A; this property is called the extensionality of sets.\n",
        "\n",
        "Brands = {}\n",
        "type(Brands)     #Here you can see that the empty set is nothing but a dictioney so the sset must be have any elemet in any data type\n"
      ],
      "metadata": {
        "colab": {
          "base_uri": "https://localhost:8080/"
        },
        "id": "GrfG7wFp4avi",
        "outputId": "ff321061-5d97-4d54-979c-9fe591b55dff"
      },
      "execution_count": 64,
      "outputs": [
        {
          "output_type": "execute_result",
          "data": {
            "text/plain": [
              "dict"
            ]
          },
          "metadata": {},
          "execution_count": 64
        }
      ]
    },
    {
      "cell_type": "code",
      "source": [
        "Brands = {\"nike\", \"puma\", \"hrx\" , \"casio\" ,  \"armani\"}     #Brands is set"
      ],
      "metadata": {
        "id": "oicLQhGG5bhI"
      },
      "execution_count": 65,
      "outputs": []
    },
    {
      "cell_type": "code",
      "source": [
        "Brands"
      ],
      "metadata": {
        "colab": {
          "base_uri": "https://localhost:8080/"
        },
        "id": "5jGfVXmm51X_",
        "outputId": "95e0d67c-7d60-4d52-d789-062dcb2b5a64"
      },
      "execution_count": 66,
      "outputs": [
        {
          "output_type": "execute_result",
          "data": {
            "text/plain": [
              "{'armani', 'casio', 'hrx', 'nike', 'puma'}"
            ]
          },
          "metadata": {},
          "execution_count": 66
        }
      ]
    },
    {
      "cell_type": "code",
      "source": [
        "type(Brands)"
      ],
      "metadata": {
        "colab": {
          "base_uri": "https://localhost:8080/"
        },
        "id": "DXXwSB_x52Vr",
        "outputId": "c40fe202-6826-47c3-8874-d401b33b3f35"
      },
      "execution_count": 67,
      "outputs": [
        {
          "output_type": "execute_result",
          "data": {
            "text/plain": [
              "set"
            ]
          },
          "metadata": {},
          "execution_count": 67
        }
      ]
    },
    {
      "cell_type": "code",
      "source": [
        "Brands.add(\"nike\")   #nike add twice by add opreation but set show only single time as set is unique collection of set"
      ],
      "metadata": {
        "id": "HnnaM3DY534Z"
      },
      "execution_count": 68,
      "outputs": []
    },
    {
      "cell_type": "code",
      "source": [
        "Brands"
      ],
      "metadata": {
        "colab": {
          "base_uri": "https://localhost:8080/"
        },
        "id": "xgC_aOlB6Wx_",
        "outputId": "4821c9f9-422b-4cac-d0aa-0a045574fef3"
      },
      "execution_count": 69,
      "outputs": [
        {
          "output_type": "execute_result",
          "data": {
            "text/plain": [
              "{'armani', 'casio', 'hrx', 'nike', 'puma'}"
            ]
          },
          "metadata": {},
          "execution_count": 69
        }
      ]
    },
    {
      "cell_type": "code",
      "source": [
        "Brands.remove(\"puma\")"
      ],
      "metadata": {
        "id": "ofP1Sb6x6Yab"
      },
      "execution_count": 71,
      "outputs": []
    },
    {
      "cell_type": "code",
      "source": [
        "Brands"
      ],
      "metadata": {
        "colab": {
          "base_uri": "https://localhost:8080/"
        },
        "id": "u8xS2CLL6qry",
        "outputId": "bbb50b2c-4aa3-4e66-ab0a-e449dd20b7ab"
      },
      "execution_count": 72,
      "outputs": [
        {
          "output_type": "execute_result",
          "data": {
            "text/plain": [
              "{'armani', 'casio', 'hrx', 'nike'}"
            ]
          },
          "metadata": {},
          "execution_count": 72
        }
      ]
    },
    {
      "cell_type": "code",
      "source": [
        "Brands.pop()"
      ],
      "metadata": {
        "colab": {
          "base_uri": "https://localhost:8080/",
          "height": 36
        },
        "id": "d9n5hJxu6tZz",
        "outputId": "08d371ac-dbaf-444b-ae53-4dfb93e6e5a3"
      },
      "execution_count": 73,
      "outputs": [
        {
          "output_type": "execute_result",
          "data": {
            "text/plain": [
              "'armani'"
            ],
            "application/vnd.google.colaboratory.intrinsic+json": {
              "type": "string"
            }
          },
          "metadata": {},
          "execution_count": 73
        }
      ]
    },
    {
      "cell_type": "code",
      "source": [
        "Brands"
      ],
      "metadata": {
        "colab": {
          "base_uri": "https://localhost:8080/"
        },
        "id": "EUy6bMPo61So",
        "outputId": "0e52fea5-3318-4d78-ffc1-41c1289656a9"
      },
      "execution_count": 74,
      "outputs": [
        {
          "output_type": "execute_result",
          "data": {
            "text/plain": [
              "{'casio', 'hrx', 'nike'}"
            ]
          },
          "metadata": {},
          "execution_count": 74
        }
      ]
    },
    {
      "cell_type": "code",
      "source": [
        "Brands.update(\"rebook\") #To update the a new element"
      ],
      "metadata": {
        "id": "Ehs3L86l62aU"
      },
      "execution_count": 76,
      "outputs": []
    },
    {
      "cell_type": "code",
      "source": [
        "Brands"
      ],
      "metadata": {
        "colab": {
          "base_uri": "https://localhost:8080/"
        },
        "id": "WWy8M_N_7AY7",
        "outputId": "2c691dfa-fa24-427b-a1d3-cd0d248b39ee"
      },
      "execution_count": 77,
      "outputs": [
        {
          "output_type": "execute_result",
          "data": {
            "text/plain": [
              "{'b', 'casio', 'e', 'hrx', 'k', 'nike', 'o', 'r'}"
            ]
          },
          "metadata": {},
          "execution_count": 77
        }
      ]
    },
    {
      "cell_type": "code",
      "source": [
        "Brands.update([\"zara\" , \"zara\"])  #This the way to update a new elemet in sets with you geting sepreated the element form."
      ],
      "metadata": {
        "id": "0V8Y4S8w7Dlb"
      },
      "execution_count": 79,
      "outputs": []
    },
    {
      "cell_type": "code",
      "source": [
        "Brands"
      ],
      "metadata": {
        "colab": {
          "base_uri": "https://localhost:8080/"
        },
        "id": "21hDYxcI7rUC",
        "outputId": "560ad35d-acfe-43d9-a318-39eb534f3cdd"
      },
      "execution_count": 80,
      "outputs": [
        {
          "output_type": "execute_result",
          "data": {
            "text/plain": [
              "{'b', 'casio', 'e', 'hrx', 'k', 'nike', 'o', 'r', 'zara'}"
            ]
          },
          "metadata": {},
          "execution_count": 80
        }
      ]
    },
    {
      "cell_type": "code",
      "source": [
        "Brands.remove(\"r\")   #by using remove we can remove the desirable element."
      ],
      "metadata": {
        "id": "L8ZlMnm37v3R"
      },
      "execution_count": 82,
      "outputs": []
    },
    {
      "cell_type": "code",
      "source": [
        "Brands"
      ],
      "metadata": {
        "colab": {
          "base_uri": "https://localhost:8080/"
        },
        "id": "xiprkvv68CEV",
        "outputId": "3c7b6d84-2a30-405a-d92f-ab9f7c8c7112"
      },
      "execution_count": 83,
      "outputs": [
        {
          "output_type": "execute_result",
          "data": {
            "text/plain": [
              "{'b', 'casio', 'e', 'hrx', 'k', 'nike', 'o', 'zara'}"
            ]
          },
          "metadata": {},
          "execution_count": 83
        }
      ]
    },
    {
      "cell_type": "code",
      "source": [
        "Brands.discard(\"zara\")  #by using discard we can remove the desirable element. Diffrnce between remove and discard is that discard never give an erron\n",
        "#if the element which we want remove by using dicrad if is not existed at all in set."
      ],
      "metadata": {
        "id": "FjsHnvYo8G9u"
      },
      "execution_count": 84,
      "outputs": []
    },
    {
      "cell_type": "code",
      "source": [
        "Brands"
      ],
      "metadata": {
        "colab": {
          "base_uri": "https://localhost:8080/"
        },
        "id": "Gd3Tbm1c9vyI",
        "outputId": "92d24398-6bcb-4597-c2d1-9148d4e84252"
      },
      "execution_count": 85,
      "outputs": [
        {
          "output_type": "execute_result",
          "data": {
            "text/plain": [
              "{'b', 'casio', 'e', 'hrx', 'k', 'nike', 'o'}"
            ]
          },
          "metadata": {},
          "execution_count": 85
        }
      ]
    },
    {
      "cell_type": "code",
      "source": [
        "Marks = { 100,  200 , 300 , 400}\n",
        "Students = {\"Yash\" , \"rihsi\" ,\"varun\" , \"ashish\"}\n",
        "\n",
        "Marks | Students      #uinon set"
      ],
      "metadata": {
        "colab": {
          "base_uri": "https://localhost:8080/"
        },
        "id": "yixsLv7C9xa5",
        "outputId": "bacb5c7e-5dd5-4a0b-8985-ff5c0d1ef97d"
      },
      "execution_count": 88,
      "outputs": [
        {
          "output_type": "execute_result",
          "data": {
            "text/plain": [
              "{100, 200, 300, 400, 'Yash', 'ashish', 'rihsi', 'varun'}"
            ]
          },
          "metadata": {},
          "execution_count": 88
        }
      ]
    },
    {
      "cell_type": "code",
      "source": [
        "Marks & Students      #intersection set  as there is no common object is become empty set"
      ],
      "metadata": {
        "colab": {
          "base_uri": "https://localhost:8080/"
        },
        "id": "wATZGqWmAXaJ",
        "outputId": "d75046ae-e413-4f39-ae3f-97fadbf5ff8b"
      },
      "execution_count": 89,
      "outputs": [
        {
          "output_type": "execute_result",
          "data": {
            "text/plain": [
              "set()"
            ]
          },
          "metadata": {},
          "execution_count": 89
        }
      ]
    },
    {
      "cell_type": "code",
      "source": [
        "Marks - Students      #difference set is remove the common object from the set 1 here there is no common obejct so the SET 1 come as it as"
      ],
      "metadata": {
        "colab": {
          "base_uri": "https://localhost:8080/"
        },
        "id": "Os71ehJ3AcV1",
        "outputId": "d7335ab0-bcf6-49c7-b2cd-cb2360d89fd7"
      },
      "execution_count": 90,
      "outputs": [
        {
          "output_type": "execute_result",
          "data": {
            "text/plain": [
              "{100, 200, 300, 400}"
            ]
          },
          "metadata": {},
          "execution_count": 90
        }
      ]
    },
    {
      "cell_type": "code",
      "source": [
        "Marks ^ Students    #symmatric set is remove the common object from the set 1 here there is no common obejct so the SET 1 come as it as"
      ],
      "metadata": {
        "colab": {
          "base_uri": "https://localhost:8080/"
        },
        "id": "KU67ecf4AvO1",
        "outputId": "1b37b14e-10bb-46cf-c564-5070f01e3636"
      },
      "execution_count": 93,
      "outputs": [
        {
          "output_type": "execute_result",
          "data": {
            "text/plain": [
              "{100, 200, 300, 400, 'Yash', 'ashish', 'rihsi', 'varun'}"
            ]
          },
          "metadata": {},
          "execution_count": 93
        }
      ]
    },
    {
      "cell_type": "code",
      "source": [
        "Marks"
      ],
      "metadata": {
        "colab": {
          "base_uri": "https://localhost:8080/"
        },
        "id": "76BSYTj_A875",
        "outputId": "e7feb463-43b8-4d7b-8ff5-1fec68208b5c"
      },
      "execution_count": 95,
      "outputs": [
        {
          "output_type": "execute_result",
          "data": {
            "text/plain": [
              "{100, 200, 300, 400}"
            ]
          },
          "metadata": {},
          "execution_count": 95
        }
      ]
    },
    {
      "cell_type": "code",
      "source": [
        "Marks[0]  #set is not support indexing as is unordered"
      ],
      "metadata": {
        "colab": {
          "base_uri": "https://localhost:8080/",
          "height": 141
        },
        "id": "9ExNQgP0B2h9",
        "outputId": "cad5c42c-5711-4e10-ac14-347ac657b63a"
      },
      "execution_count": 97,
      "outputs": [
        {
          "output_type": "error",
          "ename": "TypeError",
          "evalue": "'set' object is not subscriptable",
          "traceback": [
            "\u001b[0;31m---------------------------------------------------------------------------\u001b[0m",
            "\u001b[0;31mTypeError\u001b[0m                                 Traceback (most recent call last)",
            "\u001b[0;32m<ipython-input-97-e83e3085254e>\u001b[0m in \u001b[0;36m<cell line: 1>\u001b[0;34m()\u001b[0m\n\u001b[0;32m----> 1\u001b[0;31m \u001b[0mMarks\u001b[0m\u001b[0;34m[\u001b[0m\u001b[0;36m0\u001b[0m\u001b[0;34m]\u001b[0m\u001b[0;34m\u001b[0m\u001b[0;34m\u001b[0m\u001b[0m\n\u001b[0m",
            "\u001b[0;31mTypeError\u001b[0m: 'set' object is not subscriptable"
          ]
        }
      ]
    },
    {
      "cell_type": "code",
      "source": [
        "Students"
      ],
      "metadata": {
        "colab": {
          "base_uri": "https://localhost:8080/"
        },
        "id": "kxWRA4adB6IP",
        "outputId": "06f3246d-522a-4ffc-e4e0-ef57d8b1e947"
      },
      "execution_count": 98,
      "outputs": [
        {
          "output_type": "execute_result",
          "data": {
            "text/plain": [
              "{'Yash', 'ashish', 'rihsi', 'varun'}"
            ]
          },
          "metadata": {},
          "execution_count": 98
        }
      ]
    },
    {
      "cell_type": "code",
      "source": [
        "Students.add(\"yaashi\")   #sets are immutable"
      ],
      "metadata": {
        "id": "CF3MIPqPCE5W"
      },
      "execution_count": 99,
      "outputs": []
    },
    {
      "cell_type": "code",
      "source": [
        "Students"
      ],
      "metadata": {
        "colab": {
          "base_uri": "https://localhost:8080/"
        },
        "id": "Q7nRsV0BCOjX",
        "outputId": "d543bcdf-39bf-4cb9-eb58-2a3524a462dd"
      },
      "execution_count": 100,
      "outputs": [
        {
          "output_type": "execute_result",
          "data": {
            "text/plain": [
              "{'Yash', 'ashish', 'rihsi', 'varun', 'yaashi'}"
            ]
          },
          "metadata": {},
          "execution_count": 100
        }
      ]
    },
    {
      "cell_type": "code",
      "source": [
        "Students.remove(\"rihsi\")"
      ],
      "metadata": {
        "id": "Db_ghqJ3CP7M"
      },
      "execution_count": 102,
      "outputs": []
    },
    {
      "cell_type": "code",
      "source": [
        "Students"
      ],
      "metadata": {
        "colab": {
          "base_uri": "https://localhost:8080/"
        },
        "id": "SdwC5CQ1CcvH",
        "outputId": "3cab3c2d-e918-4b71-a209-75b894d94f72"
      },
      "execution_count": 103,
      "outputs": [
        {
          "output_type": "execute_result",
          "data": {
            "text/plain": [
              "{'Yash', 'ashish', 'varun', 'yaashi'}"
            ]
          },
          "metadata": {},
          "execution_count": 103
        }
      ]
    },
    {
      "cell_type": "code",
      "source": [
        "Students"
      ],
      "metadata": {
        "colab": {
          "base_uri": "https://localhost:8080/"
        },
        "id": "ykVeMC2xCtVM",
        "outputId": "155ace6e-c521-478b-ec0f-040697a7430a"
      },
      "execution_count": 105,
      "outputs": [
        {
          "output_type": "execute_result",
          "data": {
            "text/plain": [
              "{'Yash', 'ashish', 'varun', 'yaashi'}"
            ]
          },
          "metadata": {},
          "execution_count": 105
        }
      ]
    },
    {
      "cell_type": "code",
      "source": [
        "Watches = frozenset([\"casio\" , \"arrmani\", \"titain\" , \"fossil\"])"
      ],
      "metadata": {
        "id": "btJ7nCYwDByS"
      },
      "execution_count": 107,
      "outputs": []
    },
    {
      "cell_type": "code",
      "source": [
        "Watches"
      ],
      "metadata": {
        "colab": {
          "base_uri": "https://localhost:8080/"
        },
        "id": "fGlhiUh0DRQi",
        "outputId": "dda1fac9-342b-4d4f-d9ee-a59c0540756f"
      },
      "execution_count": 108,
      "outputs": [
        {
          "output_type": "execute_result",
          "data": {
            "text/plain": [
              "frozenset({'arrmani', 'casio', 'fossil', 'titain'})"
            ]
          },
          "metadata": {},
          "execution_count": 108
        }
      ]
    },
    {
      "cell_type": "code",
      "source": [
        "type(Watches)"
      ],
      "metadata": {
        "colab": {
          "base_uri": "https://localhost:8080/"
        },
        "id": "IbIZNM1HDTJ6",
        "outputId": "00cd747c-7b39-4b51-c234-19bcc76e15e0"
      },
      "execution_count": 109,
      "outputs": [
        {
          "output_type": "execute_result",
          "data": {
            "text/plain": [
              "frozenset"
            ]
          },
          "metadata": {},
          "execution_count": 109
        }
      ]
    },
    {
      "cell_type": "code",
      "source": [
        "Watches.add(\"zara\")   #frozenset is type of immutable sets"
      ],
      "metadata": {
        "colab": {
          "base_uri": "https://localhost:8080/",
          "height": 141
        },
        "id": "33G5mcORDWZ1",
        "outputId": "60fac911-704f-4f50-8552-7fda514faf3f"
      },
      "execution_count": 110,
      "outputs": [
        {
          "output_type": "error",
          "ename": "AttributeError",
          "evalue": "'frozenset' object has no attribute 'add'",
          "traceback": [
            "\u001b[0;31m---------------------------------------------------------------------------\u001b[0m",
            "\u001b[0;31mAttributeError\u001b[0m                            Traceback (most recent call last)",
            "\u001b[0;32m<ipython-input-110-f7a3c69e6634>\u001b[0m in \u001b[0;36m<cell line: 1>\u001b[0;34m()\u001b[0m\n\u001b[0;32m----> 1\u001b[0;31m \u001b[0mWatches\u001b[0m\u001b[0;34m.\u001b[0m\u001b[0madd\u001b[0m\u001b[0;34m(\u001b[0m\u001b[0;34m\"zara\"\u001b[0m\u001b[0;34m)\u001b[0m\u001b[0;34m\u001b[0m\u001b[0;34m\u001b[0m\u001b[0m\n\u001b[0m",
            "\u001b[0;31mAttributeError\u001b[0m: 'frozenset' object has no attribute 'add'"
          ]
        }
      ]
    },
    {
      "cell_type": "code",
      "source": [
        "#Que 6. Discuss the use cases of tuples and sets in Python programming.\n",
        "\n",
        "#Ans. 6 Tuples and sets are both data structures in Python. Tuples are ordered collections of elements, which are immutable (meaning they can't be changed once created). Sets, on the other hand, are unordered collections of unique elements.\n",
        "\n",
        "#Tuples are used to store heterogeneous and homogeneous data. Tuples are immutable in nature. An index is used to traverse a tuple.\n",
        "\n",
        "Jungle = (\"lion\" , \"giraf\" , \"snake\" , \"tiger\" , \"elephant\")\n",
        "\n",
        "type(Jungle)\n",
        "\n",
        "\n",
        "\n"
      ],
      "metadata": {
        "colab": {
          "base_uri": "https://localhost:8080/"
        },
        "id": "bGBoZTTpDghJ",
        "outputId": "d05c0639-7815-440b-a606-38a9a7562dca"
      },
      "execution_count": 111,
      "outputs": [
        {
          "output_type": "execute_result",
          "data": {
            "text/plain": [
              "tuple"
            ]
          },
          "metadata": {},
          "execution_count": 111
        }
      ]
    },
    {
      "cell_type": "code",
      "source": [
        "Jungle.count(\"lion\")"
      ],
      "metadata": {
        "colab": {
          "base_uri": "https://localhost:8080/"
        },
        "id": "h7mTCqaCHlNN",
        "outputId": "d2929102-8edf-4454-8930-4d7c3b8d0ec9"
      },
      "execution_count": 114,
      "outputs": [
        {
          "output_type": "execute_result",
          "data": {
            "text/plain": [
              "1"
            ]
          },
          "metadata": {},
          "execution_count": 114
        }
      ]
    },
    {
      "cell_type": "code",
      "source": [
        "Jungle[::-1]"
      ],
      "metadata": {
        "colab": {
          "base_uri": "https://localhost:8080/"
        },
        "id": "_UfmFqYBH2ca",
        "outputId": "55b388af-c6b3-4311-917e-be439fe6f99d"
      },
      "execution_count": 115,
      "outputs": [
        {
          "output_type": "execute_result",
          "data": {
            "text/plain": [
              "('elephant', 'tiger', 'snake', 'giraf', 'lion')"
            ]
          },
          "metadata": {},
          "execution_count": 115
        }
      ]
    },
    {
      "cell_type": "code",
      "source": [
        "print(i,end = \" \")"
      ],
      "metadata": {
        "colab": {
          "base_uri": "https://localhost:8080/"
        },
        "id": "rJlcWEB8IC_R",
        "outputId": "a7a18741-3136-4bbc-ed24-9f4daf20cc1f"
      },
      "execution_count": 117,
      "outputs": [
        {
          "output_type": "stream",
          "name": "stdout",
          "text": [
            "elephant "
          ]
        }
      ]
    },
    {
      "cell_type": "code",
      "source": [
        "for i in Jungle:\n",
        "  print(i ,end = \" \")"
      ],
      "metadata": {
        "colab": {
          "base_uri": "https://localhost:8080/"
        },
        "id": "i8-MWhmoIHYx",
        "outputId": "7795206e-879a-41a5-f3e6-4da17dcfa10c"
      },
      "execution_count": 119,
      "outputs": [
        {
          "output_type": "stream",
          "name": "stdout",
          "text": [
            "lion giraf snake tiger elephant "
          ]
        }
      ]
    },
    {
      "cell_type": "code",
      "source": [
        "max(Jungle)"
      ],
      "metadata": {
        "colab": {
          "base_uri": "https://localhost:8080/",
          "height": 36
        },
        "id": "5P8PdEjEIOFh",
        "outputId": "74e8043e-6a74-4041-b286-3e46c0d0401a"
      },
      "execution_count": 120,
      "outputs": [
        {
          "output_type": "execute_result",
          "data": {
            "text/plain": [
              "'tiger'"
            ],
            "application/vnd.google.colaboratory.intrinsic+json": {
              "type": "string"
            }
          },
          "metadata": {},
          "execution_count": 120
        }
      ]
    },
    {
      "cell_type": "code",
      "source": [
        "min(Jungle)"
      ],
      "metadata": {
        "colab": {
          "base_uri": "https://localhost:8080/",
          "height": 36
        },
        "id": "90uvAdK1IbIS",
        "outputId": "1183c774-1ca6-472c-c953-ab2011d6727f"
      },
      "execution_count": 121,
      "outputs": [
        {
          "output_type": "execute_result",
          "data": {
            "text/plain": [
              "'elephant'"
            ],
            "application/vnd.google.colaboratory.intrinsic+json": {
              "type": "string"
            }
          },
          "metadata": {},
          "execution_count": 121
        }
      ]
    },
    {
      "cell_type": "code",
      "source": [
        "len(Jungle)"
      ],
      "metadata": {
        "colab": {
          "base_uri": "https://localhost:8080/"
        },
        "id": "puW_myipIdC5",
        "outputId": "f92edb32-b26e-4e70-f968-0c8188e782c3"
      },
      "execution_count": 122,
      "outputs": [
        {
          "output_type": "execute_result",
          "data": {
            "text/plain": [
              "5"
            ]
          },
          "metadata": {},
          "execution_count": 122
        }
      ]
    },
    {
      "cell_type": "code",
      "source": [
        "Jungle[0:4]"
      ],
      "metadata": {
        "colab": {
          "base_uri": "https://localhost:8080/"
        },
        "id": "fcVQMdrhImHv",
        "outputId": "361e89e9-23b5-4867-9b1a-1669df280fd3"
      },
      "execution_count": 123,
      "outputs": [
        {
          "output_type": "execute_result",
          "data": {
            "text/plain": [
              "('lion', 'giraf', 'snake', 'tiger')"
            ]
          },
          "metadata": {},
          "execution_count": 123
        }
      ]
    },
    {
      "cell_type": "code",
      "source": [
        "Zoo = ( \"cow \", \"Dog\" , \" Cat\")"
      ],
      "metadata": {
        "id": "-LlYPjJDLNZg"
      },
      "execution_count": 125,
      "outputs": []
    },
    {
      "cell_type": "code",
      "source": [
        "Zoo"
      ],
      "metadata": {
        "colab": {
          "base_uri": "https://localhost:8080/"
        },
        "id": "u8Jv3PtTLT65",
        "outputId": "2eba604a-5104-4801-db92-cc2e8ad2e07e"
      },
      "execution_count": 126,
      "outputs": [
        {
          "output_type": "execute_result",
          "data": {
            "text/plain": [
              "('cow ', 'Dog', ' Cat')"
            ]
          },
          "metadata": {},
          "execution_count": 126
        }
      ]
    },
    {
      "cell_type": "code",
      "source": [
        "Animals = Jungle + Zoo"
      ],
      "metadata": {
        "id": "_ERu0YoKLXNe"
      },
      "execution_count": 128,
      "outputs": []
    },
    {
      "cell_type": "code",
      "source": [
        "Animals     #Here we can comibine two tuples together"
      ],
      "metadata": {
        "colab": {
          "base_uri": "https://localhost:8080/"
        },
        "id": "I6sizL8dLZNK",
        "outputId": "32e491a5-dc95-4042-9af6-1d3d8bdb17cb"
      },
      "execution_count": 129,
      "outputs": [
        {
          "output_type": "execute_result",
          "data": {
            "text/plain": [
              "('lion', 'giraf', 'snake', 'tiger', 'elephant', 'cow ', 'Dog', ' Cat')"
            ]
          },
          "metadata": {},
          "execution_count": 129
        }
      ]
    },
    {
      "cell_type": "code",
      "source": [
        "\"lion\" not in Animals   #memership"
      ],
      "metadata": {
        "colab": {
          "base_uri": "https://localhost:8080/"
        },
        "id": "QjbPt5YALap4",
        "outputId": "3a1de30e-0718-490d-df08-1d8d05aaeffc"
      },
      "execution_count": 131,
      "outputs": [
        {
          "output_type": "execute_result",
          "data": {
            "text/plain": [
              "False"
            ]
          },
          "metadata": {},
          "execution_count": 131
        }
      ]
    },
    {
      "cell_type": "code",
      "source": [
        "\"Dog\" in Animals"
      ],
      "metadata": {
        "colab": {
          "base_uri": "https://localhost:8080/"
        },
        "id": "bN_mi1ojMs62",
        "outputId": "1ca16ab1-811a-4bcc-fade-7b547567b675"
      },
      "execution_count": 132,
      "outputs": [
        {
          "output_type": "execute_result",
          "data": {
            "text/plain": [
              "True"
            ]
          },
          "metadata": {},
          "execution_count": 132
        }
      ]
    },
    {
      "cell_type": "code",
      "source": [
        "#Note === For the use cases of Sets you can refer QUE.5 there is breif elobration of sets b"
      ],
      "metadata": {
        "id": "J6wC7Z50Mzsg"
      },
      "execution_count": null,
      "outputs": []
    },
    {
      "cell_type": "code",
      "source": [
        "#Que 7. Describe how to add, modify, and delete items in a dictionary with examples.\n",
        "\n",
        "#Ans .  #We can Adding an item to the dictionary is done by using a new index key and assigning a value to it:\n",
        "\n",
        "Office_data = {\"Yash\":31156,  \"vivek\":31157, \"radha\": 31147 , \"rishi\":31180}\n",
        "\n",
        "type(Office_data)\n"
      ],
      "metadata": {
        "colab": {
          "base_uri": "https://localhost:8080/"
        },
        "id": "kzMAdhiaNvfQ",
        "outputId": "eba18c39-5776-4cd1-c552-d82b1cb9a070"
      },
      "execution_count": 133,
      "outputs": [
        {
          "output_type": "execute_result",
          "data": {
            "text/plain": [
              "dict"
            ]
          },
          "metadata": {},
          "execution_count": 133
        }
      ]
    },
    {
      "cell_type": "code",
      "source": [
        "Office_data[\"varun\"]= 311111    #this is the way we can add the item"
      ],
      "metadata": {
        "id": "uBiZX80GORLm"
      },
      "execution_count": 135,
      "outputs": []
    },
    {
      "cell_type": "code",
      "source": [
        "Office_data"
      ],
      "metadata": {
        "colab": {
          "base_uri": "https://localhost:8080/"
        },
        "id": "l5Ppy5F5OZbG",
        "outputId": "1e10ab17-2674-46d1-ba68-df351a8e4f0b"
      },
      "execution_count": 136,
      "outputs": [
        {
          "output_type": "execute_result",
          "data": {
            "text/plain": [
              "{'Yash': 31156,\n",
              " 'vivek': 31157,\n",
              " 'radha': 31147,\n",
              " 'rishi': 31180,\n",
              " 'varun': 311111}"
            ]
          },
          "metadata": {},
          "execution_count": 136
        }
      ]
    },
    {
      "cell_type": "code",
      "source": [
        "Office_data[\"radha\"]= 31150   #in such way we can modfiy the data"
      ],
      "metadata": {
        "id": "_dtjQ90kOctX"
      },
      "execution_count": 137,
      "outputs": []
    },
    {
      "cell_type": "code",
      "source": [
        "Office_data"
      ],
      "metadata": {
        "colab": {
          "base_uri": "https://localhost:8080/"
        },
        "id": "3bkLMhPVO9HP",
        "outputId": "63ddf2d7-2eb5-4eee-dbd5-b199e559b3b6"
      },
      "execution_count": 138,
      "outputs": [
        {
          "output_type": "execute_result",
          "data": {
            "text/plain": [
              "{'Yash': 31156,\n",
              " 'vivek': 31157,\n",
              " 'radha': 31150,\n",
              " 'rishi': 31180,\n",
              " 'varun': 311111}"
            ]
          },
          "metadata": {},
          "execution_count": 138
        }
      ]
    },
    {
      "cell_type": "code",
      "source": [
        "del Office_data[\"Yash\"]   #In such way we can delete the element"
      ],
      "metadata": {
        "id": "L_-YnVBBO-6K"
      },
      "execution_count": 144,
      "outputs": []
    },
    {
      "cell_type": "code",
      "source": [
        "Office_data"
      ],
      "metadata": {
        "colab": {
          "base_uri": "https://localhost:8080/"
        },
        "id": "nkv-fGclPrJZ",
        "outputId": "e55b06bd-92cb-4992-880e-00e31f16ff61"
      },
      "execution_count": 145,
      "outputs": [
        {
          "output_type": "execute_result",
          "data": {
            "text/plain": [
              "{'vivek': 31157, 'radha': 31150, 'rishi': 31180, 'varun': 311111}"
            ]
          },
          "metadata": {},
          "execution_count": 145
        }
      ]
    },
    {
      "cell_type": "code",
      "source": [
        "#Que 8. Discuss the importance of dictionary keys being immutable and provide examples ?\n",
        "\n",
        "#Ans . Immutability is essential for keys because it ensures that the dictionary can efficiently look up values based on their keys.\n",
        "#If a key was mutable, its hash value could change, making it impossible to find the #associated value in the dictionary.\n",
        "#since whoever changes the key object can't tell that it was being used as a dictionary key, it can't move the entry around in the dictionary.\n",
        "\n",
        "\n",
        "Guns = {\"AK47\": 100 , \"M14\":50 , \"Sniper Rifles\": 250 , \"bazuka\": 500}\n",
        "type(Guns)\n"
      ],
      "metadata": {
        "colab": {
          "base_uri": "https://localhost:8080/"
        },
        "id": "iRjm1iQVP1ER",
        "outputId": "496d29fd-f20a-4ad8-e8a0-3e033f1f6601"
      },
      "execution_count": 146,
      "outputs": [
        {
          "output_type": "execute_result",
          "data": {
            "text/plain": [
              "dict"
            ]
          },
          "metadata": {},
          "execution_count": 146
        }
      ]
    },
    {
      "cell_type": "code",
      "source": [
        "Guns[\"AK47\"]  #We can acess the value by keys but not vice versa"
      ],
      "metadata": {
        "colab": {
          "base_uri": "https://localhost:8080/"
        },
        "id": "DK411SufThyt",
        "outputId": "afa91c29-7de0-4225-d6cb-426fc79d42eb"
      },
      "execution_count": 147,
      "outputs": [
        {
          "output_type": "execute_result",
          "data": {
            "text/plain": [
              "100"
            ]
          },
          "metadata": {},
          "execution_count": 147
        }
      ]
    },
    {
      "cell_type": "code",
      "source": [
        "Guns[\"M14\"] = 550  #We can modify the value by keys but not vice versa bcz vaalue are associated with the keys not value wihh keys"
      ],
      "metadata": {
        "id": "MnXb_UuwTxcy"
      },
      "execution_count": 148,
      "outputs": []
    },
    {
      "cell_type": "code",
      "source": [
        "Guns"
      ],
      "metadata": {
        "colab": {
          "base_uri": "https://localhost:8080/"
        },
        "id": "gSvtiiZpT-kS",
        "outputId": "92b51da5-f71a-4310-de64-9d2b3dcdb6e4"
      },
      "execution_count": 149,
      "outputs": [
        {
          "output_type": "execute_result",
          "data": {
            "text/plain": [
              "{'AK47': 100, 'M14': 550, 'Sniper Rifles': 250, 'bazuka': 500}"
            ]
          },
          "metadata": {},
          "execution_count": 149
        }
      ]
    },
    {
      "cell_type": "code",
      "source": [],
      "metadata": {
        "id": "m0DSuHQGUABA"
      },
      "execution_count": null,
      "outputs": []
    }
  ]
}